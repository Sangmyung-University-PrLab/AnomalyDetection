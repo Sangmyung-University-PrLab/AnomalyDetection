{
 "cells": [
  {
   "cell_type": "code",
   "execution_count": 13,
   "metadata": {},
   "outputs": [],
   "source": [
    "import pandas as pd\n",
    "import numpy as np \n",
    "import matplotlib.pyplot as plt\n",
    "\n",
    "train_y = pd.read_csv(\"./open/train_df.csv\")\n",
    "temp_y = train_y.copy()\n",
    "\n",
    "for idx, row in temp_y.iterrows():\n",
    "    if \"good\" not in row[\"label\"]:\n",
    "        for _ in range(5):\n",
    "            train_y = pd.concat([train_y, temp_y.iloc[[idx]]])\n",
    "            \n",
    "train_y.to_csv('open/train_df_aug.csv', index = False)"
   ]
  }
 ],
 "metadata": {
  "interpreter": {
   "hash": "4e2289ef6800777859ef2ee61e291efd72a3bcace6e2f12cbd1612bf30460d9f"
  },
  "kernelspec": {
   "display_name": "Python 3.8.12 64-bit ('myenv': venv)",
   "language": "python",
   "name": "python3"
  },
  "language_info": {
   "codemirror_mode": {
    "name": "ipython",
    "version": 3
   },
   "file_extension": ".py",
   "mimetype": "text/x-python",
   "name": "python",
   "nbconvert_exporter": "python",
   "pygments_lexer": "ipython3",
   "version": "3.8.12"
  },
  "orig_nbformat": 4
 },
 "nbformat": 4,
 "nbformat_minor": 2
}
